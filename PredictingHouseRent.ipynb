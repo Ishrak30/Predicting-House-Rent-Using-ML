{
 "cells": [
  {
   "cell_type": "code",
   "execution_count": 1,
   "id": "6f2ddad1",
   "metadata": {},
   "outputs": [],
   "source": [
    "import pandas as pd\n",
    "import numpy as np"
   ]
  },
  {
   "cell_type": "code",
   "execution_count": 2,
   "id": "9a6f62ef",
   "metadata": {},
   "outputs": [],
   "source": [
    "df = pd.read_csv(\"D:/Github/Predicting-House-Rent-Using-ML/House_Rent_Dataset.csv\")"
   ]
  },
  {
   "cell_type": "markdown",
   "id": "b08ea730",
   "metadata": {
    "heading_collapsed": true
   },
   "source": [
    "# Getting Dataset Information for EDA"
   ]
  },
  {
   "cell_type": "code",
   "execution_count": 3,
   "id": "b491adc7",
   "metadata": {
    "hidden": true,
    "scrolled": false
   },
   "outputs": [
    {
     "data": {
      "text/plain": [
       "<bound method DataFrame.info of      Posted On  BHK  Size              Floor Words  Floor Number  \\\n",
       "0     08-06-22    2  1320  Lower Basement out of 2          -2.0   \n",
       "1     13-05-22    2   800               1 out of 3           1.0   \n",
       "2     16-05-22    2  1000               1 out of 3           1.0   \n",
       "3     04-07-22    2   800               1 out of 2           1.0   \n",
       "4     09-05-22    2   850               1 out of 2           1.0   \n",
       "...        ...  ...   ...                      ...           ...   \n",
       "4741  18-05-22    2  1000               3 out of 5           3.0   \n",
       "4742  15-05-22    3  2000               1 out of 4           1.0   \n",
       "4743  10-07-22    3  1750               3 out of 5           3.0   \n",
       "4744  06-07-22    3  1500             23 out of 34          23.0   \n",
       "4745  04-05-22    2  1000               4 out of 5           4.0   \n",
       "\n",
       "      Total Floors    Area Type             Area Locality       City  \\\n",
       "0              2.0   Super Area                Ballygunge    Kolkata   \n",
       "1              3.0   Super Area  Phool Bagan, Kankurgachi    Kolkata   \n",
       "2              3.0   Super Area   Salt Lake City Sector 2    Kolkata   \n",
       "3              2.0   Super Area               Dumdum Park    Kolkata   \n",
       "4              2.0  Carpet Area             South Dum Dum    Kolkata   \n",
       "...            ...          ...                       ...        ...   \n",
       "4741           5.0  Carpet Area              Bandam Kommu  Hyderabad   \n",
       "4742           4.0   Super Area      Manikonda, Hyderabad  Hyderabad   \n",
       "4743           5.0  Carpet Area      Himayath Nagar, NH 7  Hyderabad   \n",
       "4744          34.0  Carpet Area                Gachibowli  Hyderabad   \n",
       "4745           5.0  Carpet Area           Suchitra Circle  Hyderabad   \n",
       "\n",
       "     Furnishing Status  Tenant Preferred  Bathroom Point of Contact   Rent  \n",
       "0            Furnished  Bachelors/Family         2    Contact Owner  45000  \n",
       "1       Semi-Furnished  Bachelors/Family         1    Contact Owner  20000  \n",
       "2       Semi-Furnished  Bachelors/Family         1    Contact Owner  17000  \n",
       "3          Unfurnished  Bachelors/Family         1    Contact Owner  10000  \n",
       "4          Unfurnished         Bachelors         1    Contact Owner   7500  \n",
       "...                ...               ...       ...              ...    ...  \n",
       "4741    Semi-Furnished  Bachelors/Family         2    Contact Owner  15000  \n",
       "4742    Semi-Furnished  Bachelors/Family         3    Contact Owner  29000  \n",
       "4743    Semi-Furnished  Bachelors/Family         3    Contact Agent  35000  \n",
       "4744    Semi-Furnished            Family         2    Contact Agent  45000  \n",
       "4745       Unfurnished         Bachelors         2    Contact Owner  15000  \n",
       "\n",
       "[4746 rows x 14 columns]>"
      ]
     },
     "execution_count": 3,
     "metadata": {},
     "output_type": "execute_result"
    }
   ],
   "source": [
    "df.info"
   ]
  },
  {
   "cell_type": "code",
   "execution_count": 4,
   "id": "6f2ff9f8",
   "metadata": {
    "hidden": true
   },
   "outputs": [
    {
     "data": {
      "text/plain": [
       "(4746, 14)"
      ]
     },
     "execution_count": 4,
     "metadata": {},
     "output_type": "execute_result"
    }
   ],
   "source": [
    "df.shape"
   ]
  },
  {
   "cell_type": "code",
   "execution_count": 5,
   "id": "504e5412",
   "metadata": {
    "hidden": true
   },
   "outputs": [
    {
     "data": {
      "text/plain": [
       "<bound method NDFrame.head of      Posted On  BHK  Size              Floor Words  Floor Number  \\\n",
       "0     08-06-22    2  1320  Lower Basement out of 2          -2.0   \n",
       "1     13-05-22    2   800               1 out of 3           1.0   \n",
       "2     16-05-22    2  1000               1 out of 3           1.0   \n",
       "3     04-07-22    2   800               1 out of 2           1.0   \n",
       "4     09-05-22    2   850               1 out of 2           1.0   \n",
       "...        ...  ...   ...                      ...           ...   \n",
       "4741  18-05-22    2  1000               3 out of 5           3.0   \n",
       "4742  15-05-22    3  2000               1 out of 4           1.0   \n",
       "4743  10-07-22    3  1750               3 out of 5           3.0   \n",
       "4744  06-07-22    3  1500             23 out of 34          23.0   \n",
       "4745  04-05-22    2  1000               4 out of 5           4.0   \n",
       "\n",
       "      Total Floors    Area Type             Area Locality       City  \\\n",
       "0              2.0   Super Area                Ballygunge    Kolkata   \n",
       "1              3.0   Super Area  Phool Bagan, Kankurgachi    Kolkata   \n",
       "2              3.0   Super Area   Salt Lake City Sector 2    Kolkata   \n",
       "3              2.0   Super Area               Dumdum Park    Kolkata   \n",
       "4              2.0  Carpet Area             South Dum Dum    Kolkata   \n",
       "...            ...          ...                       ...        ...   \n",
       "4741           5.0  Carpet Area              Bandam Kommu  Hyderabad   \n",
       "4742           4.0   Super Area      Manikonda, Hyderabad  Hyderabad   \n",
       "4743           5.0  Carpet Area      Himayath Nagar, NH 7  Hyderabad   \n",
       "4744          34.0  Carpet Area                Gachibowli  Hyderabad   \n",
       "4745           5.0  Carpet Area           Suchitra Circle  Hyderabad   \n",
       "\n",
       "     Furnishing Status  Tenant Preferred  Bathroom Point of Contact   Rent  \n",
       "0            Furnished  Bachelors/Family         2    Contact Owner  45000  \n",
       "1       Semi-Furnished  Bachelors/Family         1    Contact Owner  20000  \n",
       "2       Semi-Furnished  Bachelors/Family         1    Contact Owner  17000  \n",
       "3          Unfurnished  Bachelors/Family         1    Contact Owner  10000  \n",
       "4          Unfurnished         Bachelors         1    Contact Owner   7500  \n",
       "...                ...               ...       ...              ...    ...  \n",
       "4741    Semi-Furnished  Bachelors/Family         2    Contact Owner  15000  \n",
       "4742    Semi-Furnished  Bachelors/Family         3    Contact Owner  29000  \n",
       "4743    Semi-Furnished  Bachelors/Family         3    Contact Agent  35000  \n",
       "4744    Semi-Furnished            Family         2    Contact Agent  45000  \n",
       "4745       Unfurnished         Bachelors         2    Contact Owner  15000  \n",
       "\n",
       "[4746 rows x 14 columns]>"
      ]
     },
     "execution_count": 5,
     "metadata": {},
     "output_type": "execute_result"
    }
   ],
   "source": [
    "df.head"
   ]
  },
  {
   "cell_type": "code",
   "execution_count": 6,
   "id": "8fd8c6d3",
   "metadata": {
    "hidden": true
   },
   "outputs": [
    {
     "data": {
      "text/plain": [
       "Posted On            0\n",
       "BHK                  0\n",
       "Size                 0\n",
       "Floor Words          0\n",
       "Floor Number         3\n",
       "Total Floors         3\n",
       "Area Type            0\n",
       "Area Locality        0\n",
       "City                 0\n",
       "Furnishing Status    0\n",
       "Tenant Preferred     0\n",
       "Bathroom             0\n",
       "Point of Contact     0\n",
       "Rent                 0\n",
       "dtype: int64"
      ]
     },
     "execution_count": 6,
     "metadata": {},
     "output_type": "execute_result"
    }
   ],
   "source": [
    "df.isnull().sum()"
   ]
  },
  {
   "cell_type": "markdown",
   "id": "81ae1a18",
   "metadata": {
    "hidden": true
   },
   "source": [
    "No Missing data"
   ]
  },
  {
   "cell_type": "code",
   "execution_count": 7,
   "id": "8b8f9401",
   "metadata": {
    "hidden": true
   },
   "outputs": [
    {
     "data": {
      "text/plain": [
       "Posted On             object\n",
       "BHK                    int64\n",
       "Size                   int64\n",
       "Floor Words           object\n",
       "Floor Number         float64\n",
       "Total Floors         float64\n",
       "Area Type             object\n",
       "Area Locality         object\n",
       "City                  object\n",
       "Furnishing Status     object\n",
       "Tenant Preferred      object\n",
       "Bathroom               int64\n",
       "Point of Contact      object\n",
       "Rent                   int64\n",
       "dtype: object"
      ]
     },
     "execution_count": 7,
     "metadata": {},
     "output_type": "execute_result"
    }
   ],
   "source": [
    "df.dtypes"
   ]
  },
  {
   "cell_type": "code",
   "execution_count": 8,
   "id": "46d4bd63",
   "metadata": {
    "hidden": true
   },
   "outputs": [],
   "source": [
    "categorical_feat=['Area Type','City', 'Furnishing Status','Tenant Preferred', 'Point of Contact']\n",
    "numerical_feat = ['BHK','Size','Floor Number',\n",
    "       'Total Floors','Bathroom']\n",
    "dropping = ['Posted On', 'Floor Words','Area Locality']"
   ]
  },
  {
   "cell_type": "code",
   "execution_count": 9,
   "id": "a64d2369",
   "metadata": {
    "hidden": true,
    "scrolled": true
   },
   "outputs": [
    {
     "data": {
      "text/plain": [
       "Index(['Posted On', 'BHK', 'Size', 'Floor Words', 'Floor Number',\n",
       "       'Total Floors', 'Area Type', 'Area Locality', 'City',\n",
       "       'Furnishing Status', 'Tenant Preferred', 'Bathroom', 'Point of Contact',\n",
       "       'Rent'],\n",
       "      dtype='object')"
      ]
     },
     "execution_count": 9,
     "metadata": {},
     "output_type": "execute_result"
    }
   ],
   "source": [
    "df.columns"
   ]
  },
  {
   "cell_type": "markdown",
   "id": "19fa9924",
   "metadata": {
    "heading_collapsed": true
   },
   "source": [
    "# Dropping Unnecessary Values"
   ]
  },
  {
   "cell_type": "code",
   "execution_count": 10,
   "id": "2973f23e",
   "metadata": {
    "hidden": true,
    "scrolled": true
   },
   "outputs": [
    {
     "data": {
      "text/html": [
       "<div>\n",
       "<style scoped>\n",
       "    .dataframe tbody tr th:only-of-type {\n",
       "        vertical-align: middle;\n",
       "    }\n",
       "\n",
       "    .dataframe tbody tr th {\n",
       "        vertical-align: top;\n",
       "    }\n",
       "\n",
       "    .dataframe thead th {\n",
       "        text-align: right;\n",
       "    }\n",
       "</style>\n",
       "<table border=\"1\" class=\"dataframe\">\n",
       "  <thead>\n",
       "    <tr style=\"text-align: right;\">\n",
       "      <th></th>\n",
       "      <th>BHK</th>\n",
       "      <th>Size</th>\n",
       "      <th>Floor Number</th>\n",
       "      <th>Total Floors</th>\n",
       "      <th>Area Type</th>\n",
       "      <th>City</th>\n",
       "      <th>Furnishing Status</th>\n",
       "      <th>Tenant Preferred</th>\n",
       "      <th>Bathroom</th>\n",
       "      <th>Point of Contact</th>\n",
       "      <th>Rent</th>\n",
       "    </tr>\n",
       "  </thead>\n",
       "  <tbody>\n",
       "    <tr>\n",
       "      <th>0</th>\n",
       "      <td>2</td>\n",
       "      <td>1320</td>\n",
       "      <td>-2.0</td>\n",
       "      <td>2.0</td>\n",
       "      <td>Super Area</td>\n",
       "      <td>Kolkata</td>\n",
       "      <td>Furnished</td>\n",
       "      <td>Bachelors/Family</td>\n",
       "      <td>2</td>\n",
       "      <td>Contact Owner</td>\n",
       "      <td>45000</td>\n",
       "    </tr>\n",
       "    <tr>\n",
       "      <th>1</th>\n",
       "      <td>2</td>\n",
       "      <td>800</td>\n",
       "      <td>1.0</td>\n",
       "      <td>3.0</td>\n",
       "      <td>Super Area</td>\n",
       "      <td>Kolkata</td>\n",
       "      <td>Semi-Furnished</td>\n",
       "      <td>Bachelors/Family</td>\n",
       "      <td>1</td>\n",
       "      <td>Contact Owner</td>\n",
       "      <td>20000</td>\n",
       "    </tr>\n",
       "    <tr>\n",
       "      <th>2</th>\n",
       "      <td>2</td>\n",
       "      <td>1000</td>\n",
       "      <td>1.0</td>\n",
       "      <td>3.0</td>\n",
       "      <td>Super Area</td>\n",
       "      <td>Kolkata</td>\n",
       "      <td>Semi-Furnished</td>\n",
       "      <td>Bachelors/Family</td>\n",
       "      <td>1</td>\n",
       "      <td>Contact Owner</td>\n",
       "      <td>17000</td>\n",
       "    </tr>\n",
       "    <tr>\n",
       "      <th>3</th>\n",
       "      <td>2</td>\n",
       "      <td>800</td>\n",
       "      <td>1.0</td>\n",
       "      <td>2.0</td>\n",
       "      <td>Super Area</td>\n",
       "      <td>Kolkata</td>\n",
       "      <td>Unfurnished</td>\n",
       "      <td>Bachelors/Family</td>\n",
       "      <td>1</td>\n",
       "      <td>Contact Owner</td>\n",
       "      <td>10000</td>\n",
       "    </tr>\n",
       "    <tr>\n",
       "      <th>4</th>\n",
       "      <td>2</td>\n",
       "      <td>850</td>\n",
       "      <td>1.0</td>\n",
       "      <td>2.0</td>\n",
       "      <td>Carpet Area</td>\n",
       "      <td>Kolkata</td>\n",
       "      <td>Unfurnished</td>\n",
       "      <td>Bachelors</td>\n",
       "      <td>1</td>\n",
       "      <td>Contact Owner</td>\n",
       "      <td>7500</td>\n",
       "    </tr>\n",
       "    <tr>\n",
       "      <th>...</th>\n",
       "      <td>...</td>\n",
       "      <td>...</td>\n",
       "      <td>...</td>\n",
       "      <td>...</td>\n",
       "      <td>...</td>\n",
       "      <td>...</td>\n",
       "      <td>...</td>\n",
       "      <td>...</td>\n",
       "      <td>...</td>\n",
       "      <td>...</td>\n",
       "      <td>...</td>\n",
       "    </tr>\n",
       "    <tr>\n",
       "      <th>4741</th>\n",
       "      <td>2</td>\n",
       "      <td>1000</td>\n",
       "      <td>3.0</td>\n",
       "      <td>5.0</td>\n",
       "      <td>Carpet Area</td>\n",
       "      <td>Hyderabad</td>\n",
       "      <td>Semi-Furnished</td>\n",
       "      <td>Bachelors/Family</td>\n",
       "      <td>2</td>\n",
       "      <td>Contact Owner</td>\n",
       "      <td>15000</td>\n",
       "    </tr>\n",
       "    <tr>\n",
       "      <th>4742</th>\n",
       "      <td>3</td>\n",
       "      <td>2000</td>\n",
       "      <td>1.0</td>\n",
       "      <td>4.0</td>\n",
       "      <td>Super Area</td>\n",
       "      <td>Hyderabad</td>\n",
       "      <td>Semi-Furnished</td>\n",
       "      <td>Bachelors/Family</td>\n",
       "      <td>3</td>\n",
       "      <td>Contact Owner</td>\n",
       "      <td>29000</td>\n",
       "    </tr>\n",
       "    <tr>\n",
       "      <th>4743</th>\n",
       "      <td>3</td>\n",
       "      <td>1750</td>\n",
       "      <td>3.0</td>\n",
       "      <td>5.0</td>\n",
       "      <td>Carpet Area</td>\n",
       "      <td>Hyderabad</td>\n",
       "      <td>Semi-Furnished</td>\n",
       "      <td>Bachelors/Family</td>\n",
       "      <td>3</td>\n",
       "      <td>Contact Agent</td>\n",
       "      <td>35000</td>\n",
       "    </tr>\n",
       "    <tr>\n",
       "      <th>4744</th>\n",
       "      <td>3</td>\n",
       "      <td>1500</td>\n",
       "      <td>23.0</td>\n",
       "      <td>34.0</td>\n",
       "      <td>Carpet Area</td>\n",
       "      <td>Hyderabad</td>\n",
       "      <td>Semi-Furnished</td>\n",
       "      <td>Family</td>\n",
       "      <td>2</td>\n",
       "      <td>Contact Agent</td>\n",
       "      <td>45000</td>\n",
       "    </tr>\n",
       "    <tr>\n",
       "      <th>4745</th>\n",
       "      <td>2</td>\n",
       "      <td>1000</td>\n",
       "      <td>4.0</td>\n",
       "      <td>5.0</td>\n",
       "      <td>Carpet Area</td>\n",
       "      <td>Hyderabad</td>\n",
       "      <td>Unfurnished</td>\n",
       "      <td>Bachelors</td>\n",
       "      <td>2</td>\n",
       "      <td>Contact Owner</td>\n",
       "      <td>15000</td>\n",
       "    </tr>\n",
       "  </tbody>\n",
       "</table>\n",
       "<p>4746 rows × 11 columns</p>\n",
       "</div>"
      ],
      "text/plain": [
       "      BHK  Size  Floor Number  Total Floors    Area Type       City  \\\n",
       "0       2  1320          -2.0           2.0   Super Area    Kolkata   \n",
       "1       2   800           1.0           3.0   Super Area    Kolkata   \n",
       "2       2  1000           1.0           3.0   Super Area    Kolkata   \n",
       "3       2   800           1.0           2.0   Super Area    Kolkata   \n",
       "4       2   850           1.0           2.0  Carpet Area    Kolkata   \n",
       "...   ...   ...           ...           ...          ...        ...   \n",
       "4741    2  1000           3.0           5.0  Carpet Area  Hyderabad   \n",
       "4742    3  2000           1.0           4.0   Super Area  Hyderabad   \n",
       "4743    3  1750           3.0           5.0  Carpet Area  Hyderabad   \n",
       "4744    3  1500          23.0          34.0  Carpet Area  Hyderabad   \n",
       "4745    2  1000           4.0           5.0  Carpet Area  Hyderabad   \n",
       "\n",
       "     Furnishing Status  Tenant Preferred  Bathroom Point of Contact   Rent  \n",
       "0            Furnished  Bachelors/Family         2    Contact Owner  45000  \n",
       "1       Semi-Furnished  Bachelors/Family         1    Contact Owner  20000  \n",
       "2       Semi-Furnished  Bachelors/Family         1    Contact Owner  17000  \n",
       "3          Unfurnished  Bachelors/Family         1    Contact Owner  10000  \n",
       "4          Unfurnished         Bachelors         1    Contact Owner   7500  \n",
       "...                ...               ...       ...              ...    ...  \n",
       "4741    Semi-Furnished  Bachelors/Family         2    Contact Owner  15000  \n",
       "4742    Semi-Furnished  Bachelors/Family         3    Contact Owner  29000  \n",
       "4743    Semi-Furnished  Bachelors/Family         3    Contact Agent  35000  \n",
       "4744    Semi-Furnished            Family         2    Contact Agent  45000  \n",
       "4745       Unfurnished         Bachelors         2    Contact Owner  15000  \n",
       "\n",
       "[4746 rows x 11 columns]"
      ]
     },
     "execution_count": 10,
     "metadata": {},
     "output_type": "execute_result"
    }
   ],
   "source": [
    "df.drop(['Posted On', 'Floor Words','Area Locality'],axis=1)"
   ]
  },
  {
   "cell_type": "markdown",
   "id": "17dec82b",
   "metadata": {},
   "source": [
    "# Categorical Features Insight"
   ]
  },
  {
   "cell_type": "code",
   "execution_count": 11,
   "id": "f80728fa",
   "metadata": {
    "scrolled": false
   },
   "outputs": [
    {
     "name": "stdout",
     "output_type": "stream",
     "text": [
      "Feature: Area Type -- ['Super Area' 'Carpet Area' 'Built Area'] --count is-- 3\n",
      "Feature: City -- ['Kolkata' 'Mumbai' 'Bangalore' 'Delhi' 'Chennai' 'Hyderabad'] --count is-- 6\n",
      "Feature: Furnishing Status -- ['Furnished' 'Semi-Furnished' 'Unfurnished'] --count is-- 3\n",
      "Feature: Tenant Preferred -- ['Bachelors/Family' 'Bachelors' 'Family'] --count is-- 3\n",
      "Feature: Point of Contact -- ['Contact Owner' 'Contact Agent' 'Contact Builder'] --count is-- 3\n"
     ]
    }
   ],
   "source": [
    "data = df[categorical_feat]\n",
    "for col in data:\n",
    "    print('Feature:',col,'--',data[col].unique(),'--count is--',len(data[col].unique()))"
   ]
  },
  {
   "cell_type": "markdown",
   "id": "e5801ed8",
   "metadata": {},
   "source": [
    "# Visualization"
   ]
  },
  {
   "cell_type": "code",
   "execution_count": 12,
   "id": "d543e1b8",
   "metadata": {},
   "outputs": [],
   "source": [
    "import seaborn as sns\n",
    "import plotly.express as px\n",
    "import matplotlib.pyplot as plt\n",
    "from matplotlib import style"
   ]
  },
  {
   "cell_type": "code",
   "execution_count": 13,
   "id": "14e432c0",
   "metadata": {},
   "outputs": [],
   "source": [
    "plt.style.use('dark_background')"
   ]
  },
  {
   "cell_type": "code",
   "execution_count": 31,
   "id": "8ecab509",
   "metadata": {
    "scrolled": true
   },
   "outputs": [
    {
     "data": {
      "image/png": "[encoded data removed]",
      "text/plain": [
       "<Figure size 432x288 with 1 Axes>"
      ]
     },
     "metadata": {},
     "output_type": "display_data"
    }
   ],
   "source": [
    "bhk_plot = df['BHK'].hist(grid=False,linewidth=0.5, edgecolor=\"white\")"
   ]
  },
  {
   "cell_type": "code",
   "execution_count": 40,
   "id": "3729b963",
   "metadata": {},
   "outputs": [
    {
     "name": "stdout",
     "output_type": "stream",
     "text": [
      "[2 1 3 6 4 5]\n"
     ]
    }
   ],
   "source": [
    "arr_data = df['BHK'].unique()\n",
    "print(arr_data)"
   ]
  },
  {
   "cell_type": "code",
   "execution_count": null,
   "id": "9e953e61",
   "metadata": {},
   "outputs": [],
   "source": [
    "count_data = df['BHK']\n",
    "for i in arr_data:\n",
    "    for j in count_data:\n",
    "        if arr_data[i]==\n",
    "        \n",
    "    \n",
    "\n",
    "print(count_data)\n",
    "\n",
    "#bhk_pie = plt.pie(arr_data,labels = arr_data)"
   ]
  },
  {
   "cell_type": "code",
   "execution_count": null,
   "id": "648d45f1",
   "metadata": {},
   "outputs": [],
   "source": []
  }
 ],
 "metadata": {
  "kernelspec": {
   "display_name": "Python 3",
   "language": "python",
   "name": "python3"
  },
  "language_info": {
   "codemirror_mode": {
    "name": "ipython",
    "version": 3
   },
   "file_extension": ".py",
   "mimetype": "text/x-python",
   "name": "python",
   "nbconvert_exporter": "python",
   "pygments_lexer": "ipython3",
   "version": "3.8.8"
  }
 },
 "nbformat": 4,
 "nbformat_minor": 5
}
