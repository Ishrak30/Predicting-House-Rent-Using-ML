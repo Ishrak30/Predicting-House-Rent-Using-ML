{
 "cells": [
  {
   "cell_type": "code",
   "execution_count": 1,
   "id": "91e4f2c2",
   "metadata": {
    "ExecuteTime": {
     "end_time": "2022-09-16T10:34:16.058723Z",
     "start_time": "2022-09-16T10:34:15.561189Z"
    }
   },
   "outputs": [],
   "source": [
    "import pandas as pd\n",
    "import numpy as np"
   ]
  },
  {
   "cell_type": "markdown",
   "id": "f96fec3d",
   "metadata": {},
   "source": [
    "# Data Insight"
   ]
  },
  {
   "cell_type": "code",
   "execution_count": 2,
   "id": "0a3ad170",
   "metadata": {
    "ExecuteTime": {
     "end_time": "2022-09-16T10:34:16.074639Z",
     "start_time": "2022-09-16T10:34:16.060656Z"
    }
   },
   "outputs": [],
   "source": [
    "df = pd.read_csv(\"D:/Github/Predicting-House-Rent-Using-ML/Output_Of_EDA.csv\")"
   ]
  },
  {
   "cell_type": "code",
   "execution_count": 3,
   "id": "ecf8ea06",
   "metadata": {
    "ExecuteTime": {
     "end_time": "2022-09-16T10:34:16.106529Z",
     "start_time": "2022-09-16T10:34:16.076609Z"
    },
    "scrolled": true
   },
   "outputs": [
    {
     "data": {
      "text/html": [
       "<div>\n",
       "<style scoped>\n",
       "    .dataframe tbody tr th:only-of-type {\n",
       "        vertical-align: middle;\n",
       "    }\n",
       "\n",
       "    .dataframe tbody tr th {\n",
       "        vertical-align: top;\n",
       "    }\n",
       "\n",
       "    .dataframe thead th {\n",
       "        text-align: right;\n",
       "    }\n",
       "</style>\n",
       "<table border=\"1\" class=\"dataframe\">\n",
       "  <thead>\n",
       "    <tr style=\"text-align: right;\">\n",
       "      <th></th>\n",
       "      <th>Unnamed: 0</th>\n",
       "      <th>BHK</th>\n",
       "      <th>Size</th>\n",
       "      <th>Floor Number</th>\n",
       "      <th>Total Floors</th>\n",
       "      <th>Area Type</th>\n",
       "      <th>City</th>\n",
       "      <th>Furnishing Status</th>\n",
       "      <th>Tenant Preferred</th>\n",
       "      <th>Bathroom</th>\n",
       "      <th>Point of Contact</th>\n",
       "      <th>Rent</th>\n",
       "    </tr>\n",
       "  </thead>\n",
       "  <tbody>\n",
       "    <tr>\n",
       "      <th>0</th>\n",
       "      <td>0</td>\n",
       "      <td>2</td>\n",
       "      <td>1320</td>\n",
       "      <td>-2.0</td>\n",
       "      <td>2.0</td>\n",
       "      <td>2</td>\n",
       "      <td>4</td>\n",
       "      <td>0</td>\n",
       "      <td>1</td>\n",
       "      <td>2</td>\n",
       "      <td>2</td>\n",
       "      <td>45000</td>\n",
       "    </tr>\n",
       "    <tr>\n",
       "      <th>1</th>\n",
       "      <td>1</td>\n",
       "      <td>2</td>\n",
       "      <td>800</td>\n",
       "      <td>1.0</td>\n",
       "      <td>3.0</td>\n",
       "      <td>2</td>\n",
       "      <td>4</td>\n",
       "      <td>1</td>\n",
       "      <td>1</td>\n",
       "      <td>1</td>\n",
       "      <td>2</td>\n",
       "      <td>20000</td>\n",
       "    </tr>\n",
       "    <tr>\n",
       "      <th>2</th>\n",
       "      <td>2</td>\n",
       "      <td>2</td>\n",
       "      <td>1000</td>\n",
       "      <td>1.0</td>\n",
       "      <td>3.0</td>\n",
       "      <td>2</td>\n",
       "      <td>4</td>\n",
       "      <td>1</td>\n",
       "      <td>1</td>\n",
       "      <td>1</td>\n",
       "      <td>2</td>\n",
       "      <td>17000</td>\n",
       "    </tr>\n",
       "    <tr>\n",
       "      <th>3</th>\n",
       "      <td>3</td>\n",
       "      <td>2</td>\n",
       "      <td>800</td>\n",
       "      <td>1.0</td>\n",
       "      <td>2.0</td>\n",
       "      <td>2</td>\n",
       "      <td>4</td>\n",
       "      <td>2</td>\n",
       "      <td>1</td>\n",
       "      <td>1</td>\n",
       "      <td>2</td>\n",
       "      <td>10000</td>\n",
       "    </tr>\n",
       "    <tr>\n",
       "      <th>4</th>\n",
       "      <td>4</td>\n",
       "      <td>2</td>\n",
       "      <td>850</td>\n",
       "      <td>1.0</td>\n",
       "      <td>2.0</td>\n",
       "      <td>1</td>\n",
       "      <td>4</td>\n",
       "      <td>2</td>\n",
       "      <td>0</td>\n",
       "      <td>1</td>\n",
       "      <td>2</td>\n",
       "      <td>7500</td>\n",
       "    </tr>\n",
       "  </tbody>\n",
       "</table>\n",
       "</div>"
      ],
      "text/plain": [
       "   Unnamed: 0  BHK  Size  Floor Number  Total Floors  Area Type  City  \\\n",
       "0           0    2  1320          -2.0           2.0          2     4   \n",
       "1           1    2   800           1.0           3.0          2     4   \n",
       "2           2    2  1000           1.0           3.0          2     4   \n",
       "3           3    2   800           1.0           2.0          2     4   \n",
       "4           4    2   850           1.0           2.0          1     4   \n",
       "\n",
       "   Furnishing Status  Tenant Preferred  Bathroom  Point of Contact   Rent  \n",
       "0                  0                 1         2                 2  45000  \n",
       "1                  1                 1         1                 2  20000  \n",
       "2                  1                 1         1                 2  17000  \n",
       "3                  2                 1         1                 2  10000  \n",
       "4                  2                 0         1                 2   7500  "
      ]
     },
     "execution_count": 3,
     "metadata": {},
     "output_type": "execute_result"
    }
   ],
   "source": [
    "df.head()"
   ]
  },
  {
   "cell_type": "code",
   "execution_count": 4,
   "id": "e13d2683",
   "metadata": {
    "ExecuteTime": {
     "end_time": "2022-09-16T10:34:16.121523Z",
     "start_time": "2022-09-16T10:34:16.107577Z"
    }
   },
   "outputs": [
    {
     "data": {
      "text/plain": [
       "Unnamed: 0             int64\n",
       "BHK                    int64\n",
       "Size                   int64\n",
       "Floor Number         float64\n",
       "Total Floors         float64\n",
       "Area Type              int64\n",
       "City                   int64\n",
       "Furnishing Status      int64\n",
       "Tenant Preferred       int64\n",
       "Bathroom               int64\n",
       "Point of Contact       int64\n",
       "Rent                   int64\n",
       "dtype: object"
      ]
     },
     "execution_count": 4,
     "metadata": {},
     "output_type": "execute_result"
    }
   ],
   "source": [
    "df.dtypes"
   ]
  },
  {
   "cell_type": "code",
   "execution_count": 5,
   "id": "bd2459d9",
   "metadata": {
    "ExecuteTime": {
     "end_time": "2022-09-16T10:34:16.137482Z",
     "start_time": "2022-09-16T10:34:16.123484Z"
    }
   },
   "outputs": [],
   "source": [
    "df.drop(['Unnamed: 0'],axis=1,inplace=True)"
   ]
  },
  {
   "cell_type": "code",
   "execution_count": 6,
   "id": "3000f171",
   "metadata": {
    "ExecuteTime": {
     "end_time": "2022-09-16T10:34:16.153438Z",
     "start_time": "2022-09-16T10:34:16.139444Z"
    }
   },
   "outputs": [],
   "source": [
    "df['Total Floors']=df['Total Floors'].apply(np.int64)"
   ]
  },
  {
   "cell_type": "code",
   "execution_count": 7,
   "id": "79fa9d6f",
   "metadata": {
    "ExecuteTime": {
     "end_time": "2022-09-16T10:34:16.169362Z",
     "start_time": "2022-09-16T10:34:16.156401Z"
    },
    "scrolled": true
   },
   "outputs": [
    {
     "data": {
      "text/plain": [
       "BHK                    int64\n",
       "Size                   int64\n",
       "Floor Number         float64\n",
       "Total Floors           int64\n",
       "Area Type              int64\n",
       "City                   int64\n",
       "Furnishing Status      int64\n",
       "Tenant Preferred       int64\n",
       "Bathroom               int64\n",
       "Point of Contact       int64\n",
       "Rent                   int64\n",
       "dtype: object"
      ]
     },
     "execution_count": 7,
     "metadata": {},
     "output_type": "execute_result"
    }
   ],
   "source": [
    "df.dtypes"
   ]
  },
  {
   "cell_type": "markdown",
   "id": "069097cb",
   "metadata": {},
   "source": [
    "<h2> Since this is a regression problem I will be using the popular regression models to predict the rent"
   ]
  },
  {
   "cell_type": "markdown",
   "id": "003a9265",
   "metadata": {},
   "source": [
    "# Models"
   ]
  },
  {
   "cell_type": "code",
   "execution_count": 8,
   "id": "c6623bfb",
   "metadata": {
    "ExecuteTime": {
     "end_time": "2022-09-16T10:34:16.184322Z",
     "start_time": "2022-09-16T10:34:16.172383Z"
    },
    "scrolled": true
   },
   "outputs": [
    {
     "data": {
      "text/plain": [
       "Index(['BHK', 'Size', 'Floor Number', 'Total Floors', 'Area Type', 'City',\n",
       "       'Furnishing Status', 'Tenant Preferred', 'Bathroom', 'Point of Contact',\n",
       "       'Rent'],\n",
       "      dtype='object')"
      ]
     },
     "execution_count": 8,
     "metadata": {},
     "output_type": "execute_result"
    }
   ],
   "source": [
    "df.columns"
   ]
  },
  {
   "cell_type": "code",
   "execution_count": 9,
   "id": "87601704",
   "metadata": {
    "ExecuteTime": {
     "end_time": "2022-09-16T10:34:16.200313Z",
     "start_time": "2022-09-16T10:34:16.186318Z"
    }
   },
   "outputs": [],
   "source": [
    "df['Rent'] = np.log1p(df['Rent'])"
   ]
  },
  {
   "cell_type": "markdown",
   "id": "71f4f5c3",
   "metadata": {},
   "source": [
    "## Import Models"
   ]
  },
  {
   "cell_type": "code",
   "execution_count": 10,
   "id": "0b097b7d",
   "metadata": {
    "ExecuteTime": {
     "end_time": "2022-09-16T10:34:17.903743Z",
     "start_time": "2022-09-16T10:34:16.201276Z"
    }
   },
   "outputs": [],
   "source": [
    "#split data\n",
    "from sklearn.model_selection import train_test_split\n",
    "#data modelling\n",
    "from sklearn.linear_model import LinearRegression\n",
    "from sklearn.metrics import confusion_matrix,accuracy_score,roc_curve,classification_report\n",
    "from sklearn import metrics\n",
    "import matplotlib.pyplot as plt"
   ]
  },
  {
   "cell_type": "code",
   "execution_count": 11,
   "id": "bd0d2014",
   "metadata": {
    "ExecuteTime": {
     "end_time": "2022-09-16T10:34:17.919199Z",
     "start_time": "2022-09-16T10:34:17.904234Z"
    }
   },
   "outputs": [],
   "source": [
    "y = df[\"Rent\"]\n",
    "X = df.drop('Rent',axis=1)\n",
    "X_train, X_test, y_train, y_test = train_test_split(X, y, test_size=0.20, random_state = 0)"
   ]
  },
  {
   "cell_type": "code",
   "execution_count": 12,
   "id": "5db268ee",
   "metadata": {
    "ExecuteTime": {
     "end_time": "2022-09-16T10:34:17.935181Z",
     "start_time": "2022-09-16T10:34:17.923187Z"
    }
   },
   "outputs": [],
   "source": [
    "from sklearn.preprocessing import StandardScaler"
   ]
  },
  {
   "cell_type": "code",
   "execution_count": 13,
   "id": "3da3ae04",
   "metadata": {
    "ExecuteTime": {
     "end_time": "2022-09-16T10:34:17.951116Z",
     "start_time": "2022-09-16T10:34:17.936152Z"
    }
   },
   "outputs": [],
   "source": [
    "sc_std = StandardScaler()"
   ]
  },
  {
   "cell_type": "code",
   "execution_count": 14,
   "id": "ec96ad4b",
   "metadata": {
    "ExecuteTime": {
     "end_time": "2022-09-16T10:34:17.981032Z",
     "start_time": "2022-09-16T10:34:17.955105Z"
    }
   },
   "outputs": [],
   "source": [
    "X_train = sc_std.fit_transform(X_train)\n",
    "X_test = sc_std.transform(X_test)"
   ]
  },
  {
   "cell_type": "markdown",
   "id": "08b59013",
   "metadata": {},
   "source": [
    "## Work on Models"
   ]
  },
  {
   "cell_type": "markdown",
   "id": "efe35c5c",
   "metadata": {},
   "source": [
    "### Linear Regression"
   ]
  },
  {
   "cell_type": "code",
   "execution_count": 15,
   "id": "a148a975",
   "metadata": {
    "ExecuteTime": {
     "end_time": "2022-09-16T10:34:17.996989Z",
     "start_time": "2022-09-16T10:34:17.984028Z"
    }
   },
   "outputs": [],
   "source": [
    "m1 = 'Linear Regression'\n",
    "lr = LinearRegression()\n",
    "model = lr.fit(X_train, y_train)"
   ]
  },
  {
   "cell_type": "code",
   "execution_count": 16,
   "id": "7c3deefd",
   "metadata": {
    "ExecuteTime": {
     "end_time": "2022-09-16T10:34:18.216404Z",
     "start_time": "2022-09-16T10:34:17.998987Z"
    }
   },
   "outputs": [
    {
     "data": {
      "image/png": "[encoded data removed]",
      "text/plain": [
       "<Figure size 432x288 with 1 Axes>"
      ]
     },
     "metadata": {
      "needs_background": "light"
     },
     "output_type": "display_data"
    }
   ],
   "source": [
    "plt.scatter(lr.predict(X_train), y_train)\n",
    "plt.xlabel('Predicted value of Y')\n",
    "plt.ylabel('Real value of Y')\n",
    "plt.show()"
   ]
  },
  {
   "cell_type": "code",
   "execution_count": 17,
   "id": "eb122524",
   "metadata": {
    "ExecuteTime": {
     "end_time": "2022-09-16T10:34:18.232386Z",
     "start_time": "2022-09-16T10:34:18.218397Z"
    }
   },
   "outputs": [],
   "source": [
    "from sklearn.metrics import mean_squared_error"
   ]
  },
  {
   "cell_type": "code",
   "execution_count": 18,
   "id": "eb47637b",
   "metadata": {
    "ExecuteTime": {
     "end_time": "2022-09-16T10:34:18.247319Z",
     "start_time": "2022-09-16T10:34:18.234357Z"
    }
   },
   "outputs": [
    {
     "name": "stdout",
     "output_type": "stream",
     "text": [
      "0.49062264196028943\n"
     ]
    }
   ],
   "source": [
    "pred = lr.predict(X_test)\n",
    "rms = mean_squared_error(y_test, pred, squared=False)\n",
    "print(rms)"
   ]
  },
  {
   "cell_type": "code",
   "execution_count": 20,
   "id": "fbf60fd8",
   "metadata": {
    "ExecuteTime": {
     "end_time": "2022-09-16T10:34:18.278253Z",
     "start_time": "2022-09-16T10:34:18.264274Z"
    }
   },
   "outputs": [
    {
     "name": "stdout",
     "output_type": "stream",
     "text": [
      "Training R2 Score -  0.7302465082959742\n",
      "Test R2 Score -  0.7423998867984634\n"
     ]
    }
   ],
   "source": [
    "print(\"Training R2 Score - \",lr.score(X_train,y_train))\n",
    "print(\"Test R2 Score - \",lr.score(X_test,y_test))"
   ]
  },
  {
   "cell_type": "markdown",
   "id": "67161a93",
   "metadata": {},
   "source": [
    "### Random Forest"
   ]
  },
  {
   "cell_type": "code",
   "execution_count": 21,
   "id": "71eefda8",
   "metadata": {
    "ExecuteTime": {
     "end_time": "2022-09-16T10:34:18.356094Z",
     "start_time": "2022-09-16T10:34:18.280237Z"
    }
   },
   "outputs": [],
   "source": [
    "from sklearn.ensemble import RandomForestRegressor"
   ]
  },
  {
   "cell_type": "code",
   "execution_count": 22,
   "id": "eb4ab2dd",
   "metadata": {
    "ExecuteTime": {
     "end_time": "2022-09-16T10:34:19.264733Z",
     "start_time": "2022-09-16T10:34:18.359021Z"
    }
   },
   "outputs": [
    {
     "data": {
      "text/plain": [
       "RandomForestRegressor(n_estimators=250, n_jobs=-1)"
      ]
     },
     "execution_count": 22,
     "metadata": {},
     "output_type": "execute_result"
    }
   ],
   "source": [
    "m2 = \"Random Forest\"\n",
    "rf = RandomForestRegressor(n_estimators=250,n_jobs=-1)\n",
    "rf.fit(X_train,y_train)"
   ]
  },
  {
   "cell_type": "code",
   "execution_count": 27,
   "id": "a96cb0fd",
   "metadata": {
    "ExecuteTime": {
     "end_time": "2022-09-16T10:35:11.432043Z",
     "start_time": "2022-09-16T10:35:11.148446Z"
    }
   },
   "outputs": [
    {
     "data": {
      "image/png": "[encoded data removed]",
      "text/plain": [
       "<Figure size 432x288 with 1 Axes>"
      ]
     },
     "metadata": {
      "needs_background": "light"
     },
     "output_type": "display_data"
    }
   ],
   "source": [
    "plt.scatter(rf.predict(X_train), y_train)\n",
    "plt.xlabel('Predicted value of Y')\n",
    "plt.ylabel('Real value of Y')\n",
    "plt.show()"
   ]
  },
  {
   "cell_type": "code",
   "execution_count": 23,
   "id": "ca1829e7",
   "metadata": {
    "ExecuteTime": {
     "end_time": "2022-09-16T10:34:19.419320Z",
     "start_time": "2022-09-16T10:34:19.266728Z"
    }
   },
   "outputs": [
    {
     "name": "stdout",
     "output_type": "stream",
     "text": [
      "Training R2 Score -  0.9706411970004556\n",
      "Test R2 Score -  0.8230552332626326\n"
     ]
    }
   ],
   "source": [
    "print(\"Training R2 Score - \",rf.score(X_train,y_train))\n",
    "print(\"Test R2 Score - \",rf.score(X_test,y_test))"
   ]
  },
  {
   "cell_type": "markdown",
   "id": "59bafd1c",
   "metadata": {},
   "source": [
    "###  Decision Tree"
   ]
  },
  {
   "cell_type": "code",
   "execution_count": 24,
   "id": "0a6e6960",
   "metadata": {
    "ExecuteTime": {
     "end_time": "2022-09-16T10:34:19.435277Z",
     "start_time": "2022-09-16T10:34:19.421315Z"
    }
   },
   "outputs": [],
   "source": [
    "from sklearn.tree import DecisionTreeRegressor"
   ]
  },
  {
   "cell_type": "code",
   "execution_count": 25,
   "id": "47030c0e",
   "metadata": {
    "ExecuteTime": {
     "end_time": "2022-09-16T10:34:19.451238Z",
     "start_time": "2022-09-16T10:34:19.437272Z"
    }
   },
   "outputs": [
    {
     "data": {
      "text/plain": [
       "DecisionTreeRegressor(max_depth=4, max_leaf_nodes=10, min_samples_split=5)"
      ]
     },
     "execution_count": 25,
     "metadata": {},
     "output_type": "execute_result"
    }
   ],
   "source": [
    "m3 = \"Decision Tree\"\n",
    "dtm = DecisionTreeRegressor(max_depth=4,min_samples_split=5,max_leaf_nodes=10)\n",
    "\n",
    "dtm.fit(X_train,y_train) "
   ]
  },
  {
   "cell_type": "code",
   "execution_count": 28,
   "id": "1bc3e6a0",
   "metadata": {
    "ExecuteTime": {
     "end_time": "2022-09-16T10:35:31.834074Z",
     "start_time": "2022-09-16T10:35:31.653576Z"
    }
   },
   "outputs": [
    {
     "data": {
      "image/png": "[encoded data removed]",
      "text/plain": [
       "<Figure size 432x288 with 1 Axes>"
      ]
     },
     "metadata": {
      "needs_background": "light"
     },
     "output_type": "display_data"
    }
   ],
   "source": [
    "plt.scatter(dtm.predict(X_train), y_train)\n",
    "plt.xlabel('Predicted value of Y')\n",
    "plt.ylabel('Real value of Y')\n",
    "plt.show()"
   ]
  },
  {
   "cell_type": "code",
   "execution_count": 26,
   "id": "61918f7a",
   "metadata": {
    "ExecuteTime": {
     "end_time": "2022-09-16T10:34:19.466194Z",
     "start_time": "2022-09-16T10:34:19.455223Z"
    }
   },
   "outputs": [
    {
     "name": "stdout",
     "output_type": "stream",
     "text": [
      "R2 on train dataset =  0.7155898665490359\n",
      "R2 on test dataset =  0.6953137807489527\n"
     ]
    }
   ],
   "source": [
    "print(\"R2 on train dataset = \",dtm.score(X_train,y_train))\n",
    "print(\"R2 on test dataset = \",dtm.score(X_test,y_test))"
   ]
  },
  {
   "cell_type": "markdown",
   "id": "f49b302d",
   "metadata": {},
   "source": [
    "### Lasso Regression"
   ]
  },
  {
   "cell_type": "code",
   "execution_count": 33,
   "id": "ecc71cc0",
   "metadata": {
    "ExecuteTime": {
     "end_time": "2022-09-16T10:38:24.341801Z",
     "start_time": "2022-09-16T10:38:24.220054Z"
    }
   },
   "outputs": [
    {
     "data": {
      "text/plain": [
       "LassoCV(cv=10, max_iter=100000, normalize=True)"
      ]
     },
     "execution_count": 33,
     "metadata": {},
     "output_type": "execute_result"
    }
   ],
   "source": [
    "from sklearn.linear_model import Lasso, LassoCV\n",
    "\n",
    "ls_cv = LassoCV(alphas = None, cv = 10, max_iter = 100000, normalize = True)\n",
    "ls_cv.fit(X_train, y_train)"
   ]
  },
  {
   "cell_type": "code",
   "execution_count": 34,
   "id": "e628cbd0",
   "metadata": {
    "ExecuteTime": {
     "end_time": "2022-09-16T10:38:25.057583Z",
     "start_time": "2022-09-16T10:38:25.044630Z"
    }
   },
   "outputs": [
    {
     "data": {
      "text/plain": [
       "1.0391252587791694e-05"
      ]
     },
     "execution_count": 34,
     "metadata": {},
     "output_type": "execute_result"
    }
   ],
   "source": [
    "alpha = ls_cv.alpha_\n",
    "alpha"
   ]
  },
  {
   "cell_type": "code",
   "execution_count": 35,
   "id": "9e2d3586",
   "metadata": {
    "ExecuteTime": {
     "end_time": "2022-09-16T10:38:25.745981Z",
     "start_time": "2022-09-16T10:38:25.732983Z"
    }
   },
   "outputs": [
    {
     "data": {
      "text/plain": [
       "Lasso(alpha=1.0391252587791694e-05)"
      ]
     },
     "execution_count": 35,
     "metadata": {},
     "output_type": "execute_result"
    }
   ],
   "source": [
    "ls = Lasso(alpha = lasso_cv.alpha_)\n",
    "ls.fit(X_train, y_train)"
   ]
  },
  {
   "cell_type": "code",
   "execution_count": 36,
   "id": "44d68f96",
   "metadata": {
    "ExecuteTime": {
     "end_time": "2022-09-16T10:38:26.462027Z",
     "start_time": "2022-09-16T10:38:26.445067Z"
    }
   },
   "outputs": [
    {
     "name": "stdout",
     "output_type": "stream",
     "text": [
      "Train score:  0.7302465077330078\n",
      "Test score:  0.7423988950051268\n"
     ]
    }
   ],
   "source": [
    "print(\"Train score: \",ls.score(X_train, y_train))\n",
    "print(\"Test score: \",ls.score(X_test, y_test))"
   ]
  },
  {
   "cell_type": "code",
   "execution_count": 37,
   "id": "af3e81e5",
   "metadata": {
    "ExecuteTime": {
     "end_time": "2022-09-16T10:38:36.730410Z",
     "start_time": "2022-09-16T10:38:36.551787Z"
    }
   },
   "outputs": [
    {
     "data": {
      "image/png": "[encoded data removed]",
      "text/plain": [
       "<Figure size 432x288 with 1 Axes>"
      ]
     },
     "metadata": {
      "needs_background": "light"
     },
     "output_type": "display_data"
    }
   ],
   "source": [
    "plt.scatter(ls.predict(X_train), y_train)\n",
    "plt.xlabel('Predicted value of Y')\n",
    "plt.ylabel('Real value of Y')\n",
    "plt.show()"
   ]
  },
  {
   "cell_type": "markdown",
   "id": "d6f01ac6",
   "metadata": {},
   "source": [
    "### Ridge Regression"
   ]
  },
  {
   "cell_type": "code",
   "execution_count": 38,
   "id": "8427b384",
   "metadata": {
    "ExecuteTime": {
     "end_time": "2022-09-16T10:42:45.705481Z",
     "start_time": "2022-09-16T10:42:44.260382Z"
    }
   },
   "outputs": [
    {
     "data": {
      "text/plain": [
       "RidgeCV(alphas=array([7.77448895, 8.52263347, 1.06959628, 3.11745375, 8.27851423,\n",
       "       0.02661252, 2.13389742, 2.93350275, 8.06070463, 3.85962144,\n",
       "       8.89666597, 3.96663931, 3.49873386, 0.30169954, 3.1539696 ,\n",
       "       9.75646806, 5.79432052, 8.34625185, 2.62053803, 3.91319614,\n",
       "       6.16672118, 0.14810557, 8.72988177, 4.62767567, 1.61490425,\n",
       "       2.92813494, 7.1439215 , 1.67417367, 0.30573143, 4.13709436,\n",
       "       8.7542353 , 1.44275482, 7.54140101, 3.81158827, 7.69875742,\n",
       "       4.76655266, 3.62506221, 2.55911844, 4.79198082, 2.82131299,\n",
       "       7.23568139, 1.4456488 , 2.0909715 , 9.68799817, 5.76354508,\n",
       "       8.74227697, 4.14925949, 1.27891503, 0.75879605, 8.6251941 ]),\n",
       "        cv=10, normalize=True)"
      ]
     },
     "execution_count": 38,
     "metadata": {},
     "output_type": "execute_result"
    }
   ],
   "source": [
    "from sklearn.linear_model import Ridge, RidgeCV\n",
    "\n",
    "alphas = np.random.uniform(0, 10, 50)\n",
    "r_cv = RidgeCV(alphas = alphas, cv = 10, normalize = True)\n",
    "r_cv.fit(X_train, y_train)"
   ]
  },
  {
   "cell_type": "code",
   "execution_count": 39,
   "id": "992cdb6a",
   "metadata": {
    "ExecuteTime": {
     "end_time": "2022-09-16T10:42:47.408521Z",
     "start_time": "2022-09-16T10:42:47.388542Z"
    }
   },
   "outputs": [
    {
     "data": {
      "text/plain": [
       "0.026612522601585642"
      ]
     },
     "execution_count": 39,
     "metadata": {},
     "output_type": "execute_result"
    }
   ],
   "source": [
    "alpha = r_cv.alpha_\n",
    "alpha"
   ]
  },
  {
   "cell_type": "code",
   "execution_count": 40,
   "id": "0b47e7e7",
   "metadata": {
    "ExecuteTime": {
     "end_time": "2022-09-16T10:42:48.589111Z",
     "start_time": "2022-09-16T10:42:48.574150Z"
    }
   },
   "outputs": [
    {
     "data": {
      "text/plain": [
       "Ridge(alpha=0.026612522601585642)"
      ]
     },
     "execution_count": 40,
     "metadata": {},
     "output_type": "execute_result"
    }
   ],
   "source": [
    "ri = Ridge(alpha = r_cv.alpha_)\n",
    "ri.fit(X_train, y_train)"
   ]
  },
  {
   "cell_type": "code",
   "execution_count": 41,
   "id": "021fb453",
   "metadata": {
    "ExecuteTime": {
     "end_time": "2022-09-16T10:42:51.175834Z",
     "start_time": "2022-09-16T10:42:51.164875Z"
    }
   },
   "outputs": [
    {
     "name": "stdout",
     "output_type": "stream",
     "text": [
      "Train score:  0.7302465082861496\n",
      "Test score:  0.742399783091596\n"
     ]
    }
   ],
   "source": [
    "print(\"Train score: \",ri.score(X_train, y_train))\n",
    "print(\"Test score: \",ri.score(X_test, y_test))"
   ]
  },
  {
   "cell_type": "code",
   "execution_count": 42,
   "id": "3bff09ce",
   "metadata": {
    "ExecuteTime": {
     "end_time": "2022-09-16T10:42:52.652792Z",
     "start_time": "2022-09-16T10:42:52.461299Z"
    }
   },
   "outputs": [
    {
     "data": {
      "image/png": "[encoded data removed]",
      "text/plain": [
       "<Figure size 432x288 with 1 Axes>"
      ]
     },
     "metadata": {
      "needs_background": "light"
     },
     "output_type": "display_data"
    }
   ],
   "source": [
    "plt.scatter(ri.predict(X_train), y_train)\n",
    "plt.xlabel('Predicted value of Y')\n",
    "plt.ylabel('Real value of Y')\n",
    "plt.show()"
   ]
  }
 ],
 "metadata": {
  "kernelspec": {
   "display_name": "Python 3",
   "language": "python",
   "name": "python3"
  },
  "language_info": {
   "codemirror_mode": {
    "name": "ipython",
    "version": 3
   },
   "file_extension": ".py",
   "mimetype": "text/x-python",
   "name": "python",
   "nbconvert_exporter": "python",
   "pygments_lexer": "ipython3",
   "version": "3.8.8"
  },
  "toc": {
   "base_numbering": 1,
   "nav_menu": {},
   "number_sections": true,
   "sideBar": true,
   "skip_h1_title": false,
   "title_cell": "Table of Contents",
   "title_sidebar": "Contents",
   "toc_cell": false,
   "toc_position": {},
   "toc_section_display": true,
   "toc_window_display": true
  }
 },
 "nbformat": 4,
 "nbformat_minor": 5
}
